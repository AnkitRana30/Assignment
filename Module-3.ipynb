{
 "cells": [
  {
   "cell_type": "code",
   "execution_count": null,
   "id": "f72a3b20",
   "metadata": {},
   "outputs": [],
   "source": [
    "# Q-1 What is List? How will you reverse a list? \n",
    "#ans 1\n",
    "# Lists are used to store multiple items in a single variable.\n",
    "\n",
    "# Lists are one of 4 built-in data types in Python used to store collections of data, the other 3 are Tuple, Set, and Dictionary, all with different qualities and usage.\n",
    "\n",
    "list1=[2,8,1,6,9]\n",
    "list1.reverse()\n",
    "print(list1)"
   ]
  },
  {
   "cell_type": "code",
   "execution_count": null,
   "id": "f3da7a80",
   "metadata": {
    "scrolled": true
   },
   "outputs": [],
   "source": [
    "Q-2 How will you remove last object from a list? \n",
    "#ans 2\n",
    "list1=[1,5,6,7,8,9]\n",
    "list1.pop()\n",
    "print(list1)"
   ]
  },
  {
   "cell_type": "code",
   "execution_count": null,
   "id": "52a88a9b",
   "metadata": {},
   "outputs": [],
   "source": [
    "# Q-3 Suppose list1 is [2, 33, 222, 14, and 25], what is list1 [-1]? \n",
    "#ans 3\n",
    "list1=[2,33,222,14,25]\n",
    "list1[-1]\n"
   ]
  },
  {
   "cell_type": "code",
   "execution_count": null,
   "id": "e2bd120f",
   "metadata": {
    "scrolled": true
   },
   "outputs": [],
   "source": [
    "Q-4 Differentiate between append () and extend () methods? \n",
    "#ans 4\n",
    "# Differnt between append & Extend\n",
    "# Append:It adds an element at the end of the list. The argument passed in the append function is added as a single element at end of the list and the length of the list is increased by 1.\n",
    "# ex:\n",
    "list1=[34,545,60,'ankit']\n",
    "list1.append('rana')\n",
    "print(list1)\n",
    "# Extend: This method appends each element of the iterable (tuple, string, or list) to the end of the list and increases the length of the list by the number of elements of the iterable passed as an argument.\n",
    "list1=[34,545,60,'ankit']\n",
    "list1.extend('Rana')\n",
    "print(list1)"
   ]
  },
  {
   "cell_type": "code",
   "execution_count": null,
   "id": "e5e48ae6",
   "metadata": {},
   "outputs": [],
   "source": [
    "# Q-5 Write a Python function to get the largest number, smallest num and sum \n",
    "# of all from a list. \n",
    "\n",
    "#ans 5\n",
    "list1=[5,0,4,9,5,2,8]\n",
    "list1.sort()\n",
    "print('largest Number',list1[-1])\n",
    "print('largest Number',list1[0])\n",
    "Sum=sum(list1)\n",
    "print('Sum of List',Sum)"
   ]
  },
  {
   "cell_type": "code",
   "execution_count": null,
   "id": "cbdba3cf",
   "metadata": {
    "scrolled": true
   },
   "outputs": [],
   "source": [
    "# Q-6 How will you compare two lists? \n",
    "# ans 6\n",
    "list1=[1,2,3,4,5,6]\n",
    "list2=[5,6,7,8,9,10]\n",
    "if list1==list2:\n",
    "    print('list1 & list2 are same')\n",
    "else:\n",
    "    print('list1 & list2 are not same')"
   ]
  },
  {
   "cell_type": "code",
   "execution_count": null,
   "id": "9850d4ee",
   "metadata": {
    "scrolled": false
   },
   "outputs": [],
   "source": [
    "# Q-7 Write a Python program to count the number of strings where the string \n",
    "# length is 2 or more and the first and last character are same from a given \n",
    "# list of string\n",
    "#ans 7\n",
    "str1=input()\n",
    "str2=len(str1)\n",
    "if (str2>=2):\n",
    "    if str1[0]==str1[-1]:\n",
    "        print('Fist & last character Are Same',str1)\n",
    "    else:\n",
    "        print('False')\n",
    "else:\n",
    "    print('please enter a string atlest More Then 2 character')"
   ]
  },
  {
   "cell_type": "code",
   "execution_count": null,
   "id": "10c6a0cd",
   "metadata": {
    "scrolled": true
   },
   "outputs": [],
   "source": [
    "# Q-8 Write a Python program to remove duplicates from a list.\n",
    "# ans 8\n",
    "list1=[1,1,1,2,2,2,5,5,5,3,3,3]\n",
    "list2=set(list1)\n",
    "list2=list(list2)\n",
    "print(list2)"
   ]
  },
  {
   "cell_type": "code",
   "execution_count": null,
   "id": "18c839dc",
   "metadata": {
    "scrolled": false
   },
   "outputs": [],
   "source": [
    "# Q-9 Write a Python program to check a list is empty or not. \n",
    "# ans 9\n",
    "list1=[]\n",
    "if len(list1)==0:\n",
    "    print('List Is Empty')\n",
    "else:\n",
    "    print('List Is Not Empty')"
   ]
  },
  {
   "cell_type": "code",
   "execution_count": null,
   "id": "4f7b270f",
   "metadata": {
    "scrolled": true
   },
   "outputs": [],
   "source": [
    "# Q-10 Write a Python function that takes two lists and returns true if they have \n",
    "# at least one common member.\n",
    "#ans 10\n",
    "l1=[1,2,3,4,5]\n",
    "l2=[5,6,7,8,9]\n",
    "for i in l1:\n",
    "    for j in l2: \n",
    "        if i==j:\n",
    "            print(i,j,'True')"
   ]
  },
  {
   "cell_type": "code",
   "execution_count": null,
   "id": "8f1125bf",
   "metadata": {},
   "outputs": [],
   "source": [
    "# Q-11 Write a Python program to generate and print a list of first and last 5 \n",
    "# elements where the values are square of numbers between 1 and 30. \n",
    "#ans 11\n",
    "# list1=[1,2,3,4,5,6,7,8,9,10,11,12,13,14,15,16,17,18,19,20,21,22,23,24,25,26,27,28,29,30,31]\n",
    "# s1=list1[:5]\n",
    "# s2=list1[-5:]\n",
    "# print(s1)\n",
    "# print(s2)\n",
    "\n",
    "l=list()\n",
    "for i in range(1,31): \n",
    "    l.append(i**2)\n",
    "s1=l\n",
    "print(s1[:5])\n",
    "print(s1[-5:])"
   ]
  },
  {
   "cell_type": "code",
   "execution_count": null,
   "id": "6e68a9a9",
   "metadata": {
    "scrolled": false
   },
   "outputs": [],
   "source": [
    "# Q-12  Write a Python function that takes a list and returns a new list with unique \n",
    "# elements of the first list.\n",
    "#ans 12\n",
    "\n",
    "l1=[5,3,1,1,2,2,3]\n",
    "l1=set(l1)\n",
    "x=list(l1)\n",
    "print(x)"
   ]
  },
  {
   "cell_type": "code",
   "execution_count": null,
   "id": "096147ee",
   "metadata": {},
   "outputs": [],
   "source": [
    "# Q-13 Write a Python program to convert a list of characters into a string. \n",
    "#ans 13\n",
    "list1=['a','b','c','d','e']\n",
    "string=\"\".join(list1)\n",
    "print(string)\n",
    "type(string)"
   ]
  },
  {
   "cell_type": "code",
   "execution_count": null,
   "id": "0a8c1015",
   "metadata": {},
   "outputs": [],
   "source": [
    "# Q-14 Write a Python program to select an item randomly from a list. \n",
    "#ans14\n",
    "l1=[5,4,89,45,20]\n",
    "# sir x"
   ]
  },
  {
   "cell_type": "code",
   "execution_count": null,
   "id": "527a59a5",
   "metadata": {
    "scrolled": false
   },
   "outputs": [],
   "source": [
    "# Q-15 Write a Python program to find the second smallest number in a list. \n",
    "#ans15\n",
    "list1=[5,1,2,5,6,7,8,9]\n",
    "list1.sort()\n",
    "print(list1[1])"
   ]
  },
  {
   "cell_type": "code",
   "execution_count": null,
   "id": "bf52c7ed",
   "metadata": {},
   "outputs": [],
   "source": [
    "# Q-16 Write a Python program to get unique values from a list \n",
    "#ans 16\n",
    "list1=[1,2,5,5,8,9,2,6]\n",
    "list2=set(list1)\n",
    "print(list2)"
   ]
  },
  {
   "cell_type": "code",
   "execution_count": null,
   "id": "71884d16",
   "metadata": {
    "scrolled": true
   },
   "outputs": [],
   "source": [
    "# Q-17 Write a Python program to check whether a list contains a sub list \n",
    "#ans 17\n",
    "list1=[5,3,4,56,[2,5],[5,6,7]]\n",
    "for i in list1:\n",
    "    if type(i)==list:\n",
    "        print(i,'True')\n",
    "        break\n",
    "else:\n",
    "    print('False')"
   ]
  },
  {
   "cell_type": "code",
   "execution_count": null,
   "id": "5a555341",
   "metadata": {},
   "outputs": [],
   "source": [
    "# Q-18 Write a Python program to split a list into different variables. \n",
    "#ans 18\n",
    "\n",
    "list1=[1,2,3,4,5,6,7,8,9,10]\n",
    "l1=list1[:5]\n",
    "l2=list1[-5:]\n",
    "# l3=list1[-3:]\n",
    "\n",
    "print(l1,l2)\n",
    "\n",
    " "
   ]
  },
  {
   "cell_type": "code",
   "execution_count": null,
   "id": "e43fd808",
   "metadata": {},
   "outputs": [],
   "source": [
    "# Q-19 What is tuple? Difference between list and tuple. \n",
    "#ans 19\n",
    "# Tuple:Tuples are used to store multiple items in a single variable.\n",
    "# Tuple is one of 4 built-in data types in Python used to store collections of data, the other 3 are List, Set, and Dictionary, all with different qualities and usage.\n",
    "# A tuple is a collection which is ordered and unchangeable.\n",
    "# Tuples are written with round brackets.   \n",
    "\n",
    "\n",
    "# Lists are used to store multiple items in a single variable.\n",
    "# Lists are one of 4 built-in data types in Python used to store collections of data, the other 3 are Tuple, Set, and Dictionary, all with different qualities and usage.\n"
   ]
  },
  {
   "cell_type": "code",
   "execution_count": null,
   "id": "076695ed",
   "metadata": {},
   "outputs": [],
   "source": [
    "# Q-20 Write a Python program to create a tuple with different data types.\n",
    "# ans 20\n",
    "t1=(1,2,'ankit',[1,2],(4,5),1.2,{1,3},{'a':1,'b':3})\n",
    "print(t1)"
   ]
  },
  {
   "cell_type": "code",
   "execution_count": null,
   "id": "69d80bd8",
   "metadata": {
    "scrolled": true
   },
   "outputs": [],
   "source": [
    "Q-21 Write a Python program to create a tuple with numbers. \n",
    "# ans 21\n",
    "t1=(1,2,3,4,5,6,7,8,9)\n",
    "for i in t1:\n",
    "    print(i)"
   ]
  },
  {
   "cell_type": "code",
   "execution_count": null,
   "id": "283cca3d",
   "metadata": {
    "scrolled": true
   },
   "outputs": [],
   "source": [
    "# Q-22 Write a Python program to convert a tuple to a string. \n",
    "#ans 22\n",
    "t1=('ankit','rana')\n",
    "t2=\"\".join(t1)\n",
    "print(t2)"
   ]
  },
  {
   "cell_type": "code",
   "execution_count": null,
   "id": "6a350f23",
   "metadata": {
    "scrolled": true
   },
   "outputs": [],
   "source": [
    "# Q-23 Write a Python program to check whether an element exists within a \n",
    "# tuple. \n",
    "# ans 23\n",
    "t1=('a','e','i','o','u')\n",
    "s1=input(\"Enter A data \")\n",
    "print(s1 in t1)"
   ]
  },
  {
   "cell_type": "code",
   "execution_count": null,
   "id": "e17b429b",
   "metadata": {},
   "outputs": [],
   "source": [
    "# Q-24 Write a Python program to find the length of a tuple.\n",
    "# ans 24\n",
    "t1=(1,2,5,'ankit','b',(2,6))\n",
    "t2=len(t1)\n",
    "print(t2)"
   ]
  },
  {
   "cell_type": "code",
   "execution_count": 4,
   "id": "d5e1b558",
   "metadata": {},
   "outputs": [
    {
     "name": "stdout",
     "output_type": "stream",
     "text": [
      "(1, 2, 3, 'ankit', 'rana')\n"
     ]
    },
    {
     "data": {
      "text/plain": [
       "tuple"
      ]
     },
     "execution_count": 4,
     "metadata": {},
     "output_type": "execute_result"
    }
   ],
   "source": [
    "# Q-25 Write a Python program to convert a list to a tuple. \n",
    "# ans 25\n",
    "list1=[1,2,3,'ankit','rana']\n",
    "t1=tuple(list1)\n",
    "print(t1)\n",
    "type(t1)\n",
    "\n"
   ]
  },
  {
   "cell_type": "code",
   "execution_count": 5,
   "id": "84b1b588",
   "metadata": {},
   "outputs": [
    {
     "name": "stdout",
     "output_type": "stream",
     "text": [
      "(25, 20, 1, 23, 5)\n",
      "(5, 23, 1, 20, 25)\n"
     ]
    }
   ],
   "source": [
    "# Q-26 Write a Python program to reverse a tuple. \n",
    "#ans 26\n",
    "t1=(25,20,1,23,5)\n",
    "t2=t1[::-1]\n",
    "print(t1)\n",
    "print(t2)"
   ]
  },
  {
   "cell_type": "code",
   "execution_count": 1,
   "id": "26a36fce",
   "metadata": {
    "scrolled": true
   },
   "outputs": [
    {
     "name": "stdout",
     "output_type": "stream",
     "text": [
      "[(1, 100), (10, 20, 100), (50, 60, 100)]\n"
     ]
    }
   ],
   "source": [
    "# Q-27 Write a Python program to replace last value of tuples in a list.\n",
    "# ans 27\n",
    "list1=[(1,2),(10,20,30),(50,60,70)]\n",
    "for i in range(len(list1)):\n",
    "    list2=list(list1[i])\n",
    "    list2[-1]=100\n",
    "    list1[i]=tuple(list2)\n",
    "print(list1)\n",
    "\n",
    "\n",
    "\n",
    "        \n",
    "# print([t[:-1]+(100,) for t in list1])\n",
    "# pending"
   ]
  },
  {
   "cell_type": "code",
   "execution_count": 27,
   "id": "53353047",
   "metadata": {
    "scrolled": true
   },
   "outputs": [
    {
     "name": "stdout",
     "output_type": "stream",
     "text": [
      "2\n"
     ]
    }
   ],
   "source": [
    "# Q-28 Write a Python program to find the repeated items of a tuple. \n",
    "# ans 28\n",
    "t1=(1,1,1,1,2,2,2,3,3)\n",
    "tuple=t1.count(3)\n",
    "print(tuple)"
   ]
  },
  {
   "cell_type": "code",
   "execution_count": null,
   "id": "fb441515",
   "metadata": {},
   "outputs": [],
   "source": [
    "# Q-29 Write a Python program to remove an empty tuple(s) from a list of tuples. \n",
    "# ans 29\n",
    "t1=[(),(),('',),(),('a','b'),('c',)]\n",
    "list1=[]\n",
    "for tuple in t1:\n",
    "    if len(tuple)!=0:\n",
    "        list1.append(tuple)\n",
    "print(list1)"
   ]
  },
  {
   "cell_type": "code",
   "execution_count": 31,
   "id": "974860ed",
   "metadata": {},
   "outputs": [
    {
     "name": "stdout",
     "output_type": "stream",
     "text": [
      "[(1, 4, 5), (2, 5, 6)]\n"
     ]
    }
   ],
   "source": [
    "#Q-30 Write a Python program to unzip a list of tuples into individual lists. \n",
    "#ans 30\n",
    "l1=[(1,2),(4,5),(5,6)]\n",
    "print(list(zip(*l1)))\n"
   ]
  },
  {
   "cell_type": "code",
   "execution_count": null,
   "id": "5ca7aa9d",
   "metadata": {
    "scrolled": true
   },
   "outputs": [],
   "source": [
    "#Q-31 Write a Python program to convert a list of tuples into a dictionary. \n",
    "l1=[('Ankit',1),('Rana',2),('sahil',3)]\n",
    "dict(l1)"
   ]
  },
  {
   "cell_type": "code",
   "execution_count": null,
   "id": "70fbf742",
   "metadata": {
    "scrolled": true
   },
   "outputs": [],
   "source": [
    "#Q-32 How will you create a dictionary using tuples in python? \n",
    "#ans 32\n",
    "l1=[('Apple',1),('banana',2)]\n",
    "var1=dict(l1)\n",
    "print(var1)"
   ]
  },
  {
   "cell_type": "code",
   "execution_count": null,
   "id": "8296f34b",
   "metadata": {
    "scrolled": false
   },
   "outputs": [],
   "source": [
    "#Q-33 Write a Python script to sort (ascending and descending) a dictionary by \n",
    "# value.\n",
    "#ans 33\n",
    "d = {'b': 2, 'd': 4, 'c': 3, 'a': 1}\n",
    "print('Original dictionary : ',d)\n",
    "asc = dict(sorted(d.items(),key=lambda s:s[1]))  #0 use for key and 1 use for value \n",
    "print('Ascending order : ',asc)\n",
    "des = dict( sorted(d.items(), key=lambda s:s[1],reverse=True))\n",
    "print('Descending order : ',des)"
   ]
  },
  {
   "cell_type": "code",
   "execution_count": null,
   "id": "38b03eba",
   "metadata": {
    "scrolled": true
   },
   "outputs": [],
   "source": [
    "# Q-34 Write a Python script to concatenate following dictionaries to create a \n",
    "# new one.\n",
    "dic1={0:0,1:1,2:2}\n",
    "dic2={3:3,4:4,5:5}\n",
    "dic1.update(dic2)\n",
    "print(dic1)\n",
    "#ankit"
   ]
  },
  {
   "cell_type": "code",
   "execution_count": null,
   "id": "4b4d96c9",
   "metadata": {
    "scrolled": true
   },
   "outputs": [],
   "source": [
    "#Q-35 Write a Python script to check if a given key already exists in a \n",
    "# dictionary.\n",
    "# Ans 35\n",
    "dic1={10:10,'b':20,'c':30}\n",
    "key=input('Enter the key you want to cheak: ')\n",
    "# key=int(input('Enter the key you want to cheak: ')) if key is int\n",
    "if key in dic1:\n",
    "    print(\"Key Is Present, \", end =\" \")\n",
    "    print(\"value =\", dic1[key])\n",
    "else:\n",
    "    print(\"Key is Not present\")"
   ]
  },
  {
   "cell_type": "code",
   "execution_count": null,
   "id": "d7036bb5",
   "metadata": {
    "scrolled": true
   },
   "outputs": [],
   "source": [
    "#Q-36 How Do You Traverse Through A Dictionary Object In Python? \n",
    "dict1={1:'Ankit',2:'Sahil',3:'Devang'}\n",
    "# for key,val in dict1.items():\n",
    "#     print('Key= ',key,end='')\n",
    "#     print(' Value=',val)"
   ]
  },
  {
   "cell_type": "code",
   "execution_count": null,
   "id": "fcd15258",
   "metadata": {
    "scrolled": true
   },
   "outputs": [],
   "source": [
    "#Q-37 How Do You Check The Presence Of A Key In A Dictionary?\n",
    "#ans 37\n",
    "dict1={'a':100,'b':200,'c':300}\n",
    "key=input('Enter A Key= ')\n",
    "if key in dict1:\n",
    "    print('key is Present ')\n",
    "    print('Value: ',dict1[key])\n",
    "else:\n",
    "    print('key is Not Present')"
   ]
  },
  {
   "cell_type": "code",
   "execution_count": null,
   "id": "4876c353",
   "metadata": {
    "scrolled": true
   },
   "outputs": [],
   "source": [
    "#Q-38 Write a Python script to print a dictionary where the keys are numbers \n",
    "# between 1 and 15. \n",
    "#ans 38\n",
    "dict1={}\n",
    "for i in range(1,16):\n",
    "    dict1[i]=None\n",
    "print(dict1)"
   ]
  },
  {
   "cell_type": "code",
   "execution_count": null,
   "id": "d1dc07f3",
   "metadata": {
    "scrolled": true
   },
   "outputs": [],
   "source": [
    "#Q-39 Write a Python program to check multiple keys exists in a dictionary\n",
    "dict1={'a':10,'b':20,'c':30,'a':10}\n",
    "#pending"
   ]
  },
  {
   "cell_type": "code",
   "execution_count": null,
   "id": "521d5ccb",
   "metadata": {
    "scrolled": false
   },
   "outputs": [],
   "source": [
    "#Q-40 Write a Python script to merge two Python dictionaries \n",
    "dict1={'Apple':1,'Orang':2,'Mango':3}\n",
    "dict2={'Banana':4,'Chiku':5}\n",
    "dict1.update(dict2)\n",
    "print(dict1)"
   ]
  },
  {
   "cell_type": "code",
   "execution_count": null,
   "id": "be82f3cd",
   "metadata": {},
   "outputs": [],
   "source": [
    "#Q-41 Write a Python program to map two lists into a dictionary\n",
    "l1=[12,54,25,36]\n",
    "l2=[54,25,65,84]\n",
    "print(dict(zip(l1,l2)))\n",
    "# Pending"
   ]
  },
  {
   "cell_type": "code",
   "execution_count": null,
   "id": "0878a2f9",
   "metadata": {
    "scrolled": true
   },
   "outputs": [],
   "source": [
    "#Q-42 Write a Python program to combine two dictionary adding values for \n",
    "# common keys. \n",
    "d1 = {'a': 100, 'b': 200, 'c':300} \n",
    "d2 = {'a': 300, 'b': 200,'d':400} \n",
    "for key in d2:\n",
    "    if key in d1:\n",
    "        d2[key]=d2[key]+d1[key]\n",
    "    else:\n",
    "        pass\n",
    "res = d1 | d2\n",
    "print(res)\n",
    "\n",
    "# Sample output: Counter ({'a': 400, 'b': 400,’d’: 400, 'c': 300}). "
   ]
  },
  {
   "cell_type": "code",
   "execution_count": null,
   "id": "6b3eceb9",
   "metadata": {
    "scrolled": true
   },
   "outputs": [],
   "source": [
    "#Q-43 Write a Python program to print all unique values in a dictionary.\n",
    "d1 = {'a': 100, 'b': 200, 'c':300,'d':200}\n",
    "print(set(d1.values()))\n",
    "# print(set(d1.keys()))\n",
    "\n"
   ]
  },
  {
   "cell_type": "code",
   "execution_count": null,
   "id": "9fe802a3",
   "metadata": {},
   "outputs": [],
   "source": [
    "#Q-44 Why Do You Use the Zip () Method in Python? \n",
    "# To bind (merge) object of multiple collection. "
   ]
  },
  {
   "cell_type": "code",
   "execution_count": null,
   "id": "25ff1306",
   "metadata": {},
   "outputs": [],
   "source": [
    "#Q-45 Write a Python program to create and display all combinations of letters, \n",
    "# selecting each letter from a different key in a dictionary. \n",
    "dict1= {'1': ['a','b'], '2': ['c','d']} \n",
    "# Expected Output: ac ad bc bd \n",
    "l=list(dict1.values())\n",
    "for comb in l[1:]:\n",
    "    for i in l[0]:\n",
    "        for j in comb:\n",
    "            print(i+j)\n",
    "\n"
   ]
  },
  {
   "cell_type": "code",
   "execution_count": null,
   "id": "35c54185",
   "metadata": {
    "scrolled": true
   },
   "outputs": [],
   "source": [
    "#Q-46 Write a Python program to find the highest 3 values in a dictionary \n",
    "d1={'ankit':2,'Nitin':3,'Yash':1,'Mohil':4}\n",
    "x=set(d1.values())\n",
    "print(x)\n",
    "# pending"
   ]
  },
  {
   "cell_type": "code",
   "execution_count": null,
   "id": "254c83ee",
   "metadata": {},
   "outputs": [],
   "source": [
    "#Q-47 Write a Python program to combine values in python list of dictionaries. \n",
    "# Sample data: [{'item': 'item1', 'amount': 400}, {'item': 'item2', 'amount': \n",
    "# 300}, o {'item': 'item1', 'amount': 750}] \n",
    "# Expected Output:\n",
    "# Counter ({'item1': 1150, 'item2': 300}) \n",
    "l1=[{'item': 'item1', 'amount': 400},{'item': 'item2', 'amount':300},{'item': 'item1', 'amount': 750}]\n"
   ]
  },
  {
   "cell_type": "code",
   "execution_count": 3,
   "id": "c1aafda6",
   "metadata": {
    "scrolled": true
   },
   "outputs": [
    {
     "name": "stdout",
     "output_type": "stream",
     "text": [
      "{'w': 1, '3': 1, 'r': 2, 'e': 2, 's': 1, 'o': 1, 'u': 1, 'c': 1}\n"
     ]
    }
   ],
   "source": [
    "#Q-48 Write a Python program to create a dictionary from a string. \n",
    "# Note: Track the count of the letters from the string. \n",
    "# Sample string: 'w3resource' \n",
    "# Expected output: \n",
    "# {'3': 1,’s’: 1, 'r': 2, 'u': 1, 'w': 1, 'c': 1, 'e': 2, 'o': 1} \n",
    "str1='w3resource'\n",
    "s={}\n",
    "for i in str1:\n",
    "    if i in s:\n",
    "        s[i]+=1\n",
    "    else:\n",
    "        s[i]=1\n",
    "print(s)"
   ]
  },
  {
   "cell_type": "code",
   "execution_count": 2,
   "id": "60da35b0",
   "metadata": {
    "scrolled": true
   },
   "outputs": [
    {
     "name": "stdout",
     "output_type": "stream",
     "text": [
      "Enter A Factorial Number:5\n"
     ]
    },
    {
     "data": {
      "text/plain": [
       "120"
      ]
     },
     "execution_count": 2,
     "metadata": {},
     "output_type": "execute_result"
    }
   ],
   "source": [
    "#Q-49 Write a Python function to calculate the factorial of a number (a \n",
    "# nonnegative integer)\n",
    "n=int(input('Enter A Factorial Number:'))\n",
    "def factorial(n):\n",
    "    if n==0:\n",
    "        return 1\n",
    "    else:\n",
    "        return n*factorial(n-1)\n",
    "factorial(n)"
   ]
  },
  {
   "cell_type": "code",
   "execution_count": 12,
   "id": "9d58eae0",
   "metadata": {
    "scrolled": true
   },
   "outputs": [
    {
     "name": "stdout",
     "output_type": "stream",
     "text": [
      "Enter A Number If U Cheak in range(1,20): 5\n",
      "Given Number 5 in a Range so Ans is True\n"
     ]
    }
   ],
   "source": [
    "#Q-50 Write a Python function to check whether a number is in a given range\n",
    "def fun1(n):\n",
    "    if n in range(1,16):\n",
    "        print(f'Given Number {n} in a Range so Ans is True')\n",
    "    else:\n",
    "        print(f'Given number is not a Range so Ans is False')\n",
    "n=int(input(\"Enter A Number If U Cheak in range(1,20): \"))\n",
    "fun1(n)"
   ]
  },
  {
   "cell_type": "code",
   "execution_count": null,
   "id": "892b151b",
   "metadata": {},
   "outputs": [],
   "source": [
    "#Q-51 Write a Python function to check whether a number is perfect or not."
   ]
  },
  {
   "cell_type": "code",
   "execution_count": 1,
   "id": "44b0a008",
   "metadata": {},
   "outputs": [
    {
     "name": "stdout",
     "output_type": "stream",
     "text": [
      "Enter A string: nitin\n"
     ]
    },
    {
     "data": {
      "text/plain": [
       "True"
      ]
     },
     "execution_count": 1,
     "metadata": {},
     "output_type": "execute_result"
    }
   ],
   "source": [
    "#Q-52 Write a Python function that checks whether a passed string is palindrome or not \n",
    "def Palindrome(s):\n",
    "    return s == s[::-1]\n",
    "string=str(input('Enter A string: '))\n",
    "Palindrome(string)"
   ]
  },
  {
   "cell_type": "code",
   "execution_count": null,
   "id": "c7026147",
   "metadata": {},
   "outputs": [],
   "source": [
    "#Q-53 How Many Basic Types Of Functions Are Available In Python? \n",
    "# 1.Built-In Function\n",
    "# 2.User Define  \n",
    "# 3.Anonymous/lambda"
   ]
  },
  {
   "cell_type": "code",
   "execution_count": 13,
   "id": "c03f7756",
   "metadata": {},
   "outputs": [
    {
     "data": {
      "text/plain": [
       "6"
      ]
     },
     "execution_count": 13,
     "metadata": {},
     "output_type": "execute_result"
    }
   ],
   "source": [
    "# Q-54 How can you pick a random item from a list or tuple?\n",
    "list1=[4,5,6,'ankit',5.6]\n",
    "list1[2]\n",
    "# pending"
   ]
  },
  {
   "cell_type": "code",
   "execution_count": 2,
   "id": "67d22f4a",
   "metadata": {},
   "outputs": [
    {
     "name": "stdout",
     "output_type": "stream",
     "text": [
      "tops ankit\n"
     ]
    }
   ],
   "source": [
    "print(\"tops ankit\")"
   ]
  }
 ],
 "metadata": {
  "kernelspec": {
   "display_name": "Python 3 (ipykernel)",
   "language": "python",
   "name": "python3"
  },
  "language_info": {
   "codemirror_mode": {
    "name": "ipython",
    "version": 3
   },
   "file_extension": ".py",
   "mimetype": "text/x-python",
   "name": "python",
   "nbconvert_exporter": "python",
   "pygments_lexer": "ipython3",
   "version": "3.9.13"
  }
 },
 "nbformat": 4,
 "nbformat_minor": 5
}
