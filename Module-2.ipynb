{
 "cells": [
  {
   "cell_type": "code",
   "execution_count": null,
   "id": "a49a5cf5",
   "metadata": {
    "scrolled": true
   },
   "outputs": [],
   "source": [
    "# Que=1 Write a Python program to check if a number is positive, negative or Zero\n",
    "\n",
    "i=0\n",
    "var1=int(input(\"Enter a Number: \"))\n",
    "if (var1>i):\n",
    "    print(f\"The Number {var1} is Positive\")\n",
    "elif(var1==i):\n",
    "    print(f\"The Number {var1} is Zero\")\n",
    "elif(var1<=i):\n",
    "    print(f\"The Number {var1} is Negaitve\")\n",
    "else:\n",
    "    print(f\"The Number {var1} is Invalid\")"
   ]
  },
  {
   "cell_type": "code",
   "execution_count": null,
   "id": "777aa4b9",
   "metadata": {
    "scrolled": true
   },
   "outputs": [],
   "source": [
    "# Que=2 Write a Python program to get the Factorial number of given number. \n",
    "\n",
    "i=int(input(\"Enter a Number: \"))\n",
    "fact1=1\n",
    "\n",
    "while i>0:\n",
    "    fact1 = i*fact1\n",
    "    i-=1\n",
    "print(f\"Factorial= {fact1}\")"
   ]
  },
  {
   "cell_type": "code",
   "execution_count": null,
   "id": "32a0f8b3",
   "metadata": {
    "scrolled": true
   },
   "outputs": [],
   "source": [
    "# Que=3 Write a Python program to get the Fibonacci series of given range. \n",
    "\n",
    "n=int(input(\"Enter a Number: \"))\n",
    "a=0\n",
    "b=1\n",
    "c=0\n",
    "while c<=n:\n",
    "    print(c,end='')\n",
    "    a=b\n",
    "    b=c\n",
    "    c=a+b"
   ]
  },
  {
   "cell_type": "code",
   "execution_count": null,
   "id": "9f30ed5a",
   "metadata": {},
   "outputs": [],
   "source": [
    "# Que=4 How memory is managed in Python? \n",
    "Ans=In Python Memory is Managed dynamically with Private heaps space"
   ]
  },
  {
   "cell_type": "code",
   "execution_count": null,
   "id": "f02982f2",
   "metadata": {},
   "outputs": [],
   "source": [
    "# Que=5 What is the purpose continue statement in python?\n",
    "Ans= The continue keyword is used to end the current iteration in a for loop (or a while loop), and continues to the next iteration."
   ]
  },
  {
   "cell_type": "code",
   "execution_count": null,
   "id": "237d1690",
   "metadata": {
    "scrolled": true
   },
   "outputs": [],
   "source": [
    "# Que=6 Write python program that swap two number with temp variable and without temp variable.\n",
    "\n",
    "#Without Temp Variable\n",
    "\n",
    "a=int(input(\"Enter The Value A= \"))\n",
    "b=int(input(\"Enter The Value B= \"))\n",
    "\n",
    "a,b=b,a\n",
    "\n",
    "\n",
    "print('The value of a after swapping: {}'.format(a))\n",
    "print('The value of b after swapping: {}'.format(b))\n",
    "\n",
    "\n"
   ]
  },
  {
   "cell_type": "code",
   "execution_count": null,
   "id": "c01480f5",
   "metadata": {},
   "outputs": [],
   "source": [
    "# With Temp variable\n",
    "a=int(input(\"Enter The Value A= \"))\n",
    "b=int(input(\"Enter The Value B= \"))\n",
    "\n",
    "temp=a\n",
    "a=b\n",
    "b=temp\n",
    "\n",
    "print('The value of a after swapping: {}'.format(a))\n",
    "print('The value of b after swapping: {}'.format(b))\n"
   ]
  },
  {
   "cell_type": "code",
   "execution_count": null,
   "id": "0f476e45",
   "metadata": {},
   "outputs": [],
   "source": [
    "# Que=7 Write a Python program to find whether a given number is even or odd,print out an appropriate message to the user. \n",
    "\n",
    "val1=int(input('Enter the Value: '))\n",
    "\n",
    "if(val1%2==0):\n",
    "    print(f'Your Number {val1} is Even')\n",
    "else:\n",
    "    print(f'Your Number {val1} is Odd')\n"
   ]
  },
  {
   "cell_type": "code",
   "execution_count": null,
   "id": "23a66303",
   "metadata": {
    "scrolled": false
   },
   "outputs": [],
   "source": [
    "#Que=8 Write a Python program to test whether a passed letter is a vowel or not.\n",
    "\n",
    "i=input(\"Enter The alphabate Letter:\")\n",
    "if((i=='A')or(i=='E')or(i=='I')or(i=='O')or(i=='U')):\n",
    "    print(f\"The Letter {i} is Vowel\")\n",
    "elif((i=='a')or(i=='e')or(i=='i')or(i=='o')or(i=='u')):\n",
    "    print(f\"The Letter {i} is Vowel\")\n",
    "else:\n",
    "    print(f\"The Letter {i} is Note Vowel\")"
   ]
  },
  {
   "cell_type": "code",
   "execution_count": null,
   "id": "3f35c3de",
   "metadata": {},
   "outputs": [],
   "source": [
    "#Que=9 Write a Python program to sum of three given integers. However, if two values are equal sum will be zero. \n",
    "\n",
    "a=int(input('Enter value A: '))\n",
    "b=int(input('Enter value B: '))\n",
    "c=int(input('Enter value c: '))\n",
    "if(a==b or b==c or c==a):\n",
    "    print(f'Here Two Value {a} {b} {c} are equal so Sum will be Zero')\n",
    "else:\n",
    "    sum1 = a+b+c\n",
    "    print(f'Sum Of Three Value {a} + {b} + {c} is {sum1}')"
   ]
  },
  {
   "cell_type": "code",
   "execution_count": null,
   "id": "ec66903b",
   "metadata": {
    "scrolled": true
   },
   "outputs": [],
   "source": [
    "#Que=10  Write a Python program that will return true if the two given integer values are equal or their sum or difference is 5.\n",
    "\n",
    "x=int(input(\"Enter The Value x: \"))\n",
    "y=int(input(\"Enter The Value y: \"))\n",
    "\n",
    "if((x==y) or (x+y==5) or (x-y==5)):\n",
    "    print(f\"The Value {x} & {y} is {True}\")\n",
    "else:\n",
    "    print(False)\n",
    "    "
   ]
  },
  {
   "cell_type": "code",
   "execution_count": null,
   "id": "2f53e893",
   "metadata": {},
   "outputs": [],
   "source": [
    "#Que=11 Write a python program to sum of the first n positive integers. \n",
    "\n",
    "n=int(input(\"Enter The value n: \"))\n",
    "sum=(n*(n+1))/2\n",
    "print(f\"Sum of the first {n} positive integers: {sum}\")\n"
   ]
  },
  {
   "cell_type": "code",
   "execution_count": null,
   "id": "fb3e6d5e",
   "metadata": {},
   "outputs": [],
   "source": [
    "#Que=12 Write a Python program to calculate the length of a string. \n",
    "\n",
    "str1=input(\"Enter A String: \")\n",
    "print(f\"The Lenght Of a String {str1} is\", len(str1))"
   ]
  },
  {
   "cell_type": "code",
   "execution_count": null,
   "id": "5ce9bff3",
   "metadata": {},
   "outputs": [],
   "source": [
    "#Que=13 Write a Python program to count the number of characters (character frequency) in a string \n",
    "\n",
    "str1=input(\"Enter A String: \")\n",
    "s={}\n",
    "for i in str1:\n",
    "    if i in s:\n",
    "        s[i]+=1\n",
    "    else:\n",
    "        s[i]=1\n",
    "print(s)"
   ]
  },
  {
   "cell_type": "code",
   "execution_count": null,
   "id": "fe676137",
   "metadata": {},
   "outputs": [],
   "source": [
    "#Que=14 What are negative indexes and why are they used? \n"
   ]
  },
  {
   "cell_type": "code",
   "execution_count": null,
   "id": "7698e5ee",
   "metadata": {
    "scrolled": true
   },
   "outputs": [],
   "source": [
    "#Que=15 Write a Python program to count occurrences of a substring in a string. \n",
    "\n",
    "str1 = 'lion and tiger lion'\n",
    "print()\n",
    "print(str1.count(\"lion\"))\n",
    "print()"
   ]
  },
  {
   "cell_type": "code",
   "execution_count": null,
   "id": "d56cdeb4",
   "metadata": {},
   "outputs": [],
   "source": [
    "#Que=16 Write a Python program to count the occurrences of each word in a given sentence \n",
    "str1=input(\"Enter a Sentence : \")\n",
    "a=input(\"Enter a Word which one is a count:\")\n",
    "str2=str1.count(f'{a}')\n",
    "print(f'Count of the word is:{str2}')"
   ]
  },
  {
   "cell_type": "code",
   "execution_count": null,
   "id": "5c879403",
   "metadata": {
    "scrolled": true
   },
   "outputs": [],
   "source": [
    "#Que=17 Write a Python program to get a single string from two given strings,separated by a space and swap the first two characters of each string.  \n",
    "\n",
    "# a=input(\"Enter a value a: \")\n",
    "# b=input(\"Enter a value b: \")\n",
    "a='ankit'\n",
    "b='ranaa'\n",
    "\n",
    "x = b[:2] + a[2:]\n",
    "y = a[:2] + b[2:]\n",
    "print(\"After Swapping:\",a,\"  , Befor Swapping:\",x)\n",
    "print(\"After swapping:\",b,\"  , Before Swapping:\",y)\n"
   ]
  },
  {
   "cell_type": "code",
   "execution_count": null,
   "id": "406f16a2",
   "metadata": {},
   "outputs": [],
   "source": [
    "#Que=18 Write a Python program to add 'ing' at the end of a given string (length \n",
    "# should be at least 3). If the given string already ends with 'ing' then add \n",
    "# 'ly' instead if the string length of the given string is less than 3, leave it \n",
    "# unchanged\n"
   ]
  },
  {
   "cell_type": "code",
   "execution_count": 1,
   "id": "f8002951",
   "metadata": {},
   "outputs": [],
   "source": [
    "#Que=19 Write a Python program to find the first appearance of the substring \n",
    "# 'not' and 'poor' from a given string, if 'not' follows the 'poor', replace the \n",
    "# whole 'not'...'poor' substring with 'good'. Return the resulting string."
   ]
  },
  {
   "cell_type": "code",
   "execution_count": null,
   "id": "3e773f18",
   "metadata": {},
   "outputs": [],
   "source": [
    "#Que=20 Write a Python function that takes a list of words and returns the length of the longest one."
   ]
  },
  {
   "cell_type": "code",
   "execution_count": 2,
   "id": "9b87da4a",
   "metadata": {},
   "outputs": [],
   "source": [
    "#Que=21 Write a Python function to reverses a string if its length is a multiple of \n",
    "4. \n",
    "\n",
    "a='ankitrana'\n",
    "b=len(a)\n",
    "if b%4==0:\n",
    "    print(a[::-1])\n",
    "else:\n",
    "    print(\"Yore Sentanse is Not Multiply by 4\")\n"
   ]
  },
  {
   "cell_type": "code",
   "execution_count": 13,
   "id": "dbcccae8",
   "metadata": {
    "scrolled": true
   },
   "outputs": [
    {
     "name": "stdout",
     "output_type": "stream",
     "text": [
      "w3ce\n"
     ]
    }
   ],
   "source": [
    "#Que=22 Write a Python program to get a string made of the first 2 and the last 2 chars from a given a string. If the string length is less than 2, return instead of the empty string. \n",
    "\n",
    "a='w3resource'\n",
    "# a='w3'\n",
    "\n",
    "if len(a)<2:\n",
    "    print('')\n",
    "if len(a)==2:\n",
    "    print(a+a)\n",
    "if len(a)>2:\n",
    "    print(a[0:2],end='')\n",
    "    print(a[-2::1])"
   ]
  },
  {
   "cell_type": "code",
   "execution_count": 17,
   "id": "114cf3ad",
   "metadata": {},
   "outputs": [
    {
     "name": "stdout",
     "output_type": "stream",
     "text": [
      "The original string is : geekforgeeks is for geeks\n",
      "Formulated String : geekforgeeks is best for geeks\n"
     ]
    }
   ],
   "source": [
    "#Que=23 Write a Python function to insert a string in the middle of a string.\n",
    "\n",
    "\n",
    "str1='geekforgeeks is for geeks'\n",
    "print(\"The original string is : \" + str(str1))\n",
    "\n",
    "mid_str = \"best\"\n",
    "\n",
    "temp = str1.split()\n",
    "str2 = len(temp) // 2\n",
    "res = temp[:str2] + [mid_str] + temp[str2:]\n",
    "res1 = ' '.join(res)\n",
    "print(\"Middle String add: \" + str(res1))\n"
   ]
  }
 ],
 "metadata": {
  "kernelspec": {
   "display_name": "Python 3 (ipykernel)",
   "language": "python",
   "name": "python3"
  },
  "language_info": {
   "codemirror_mode": {
    "name": "ipython",
    "version": 3
   },
   "file_extension": ".py",
   "mimetype": "text/x-python",
   "name": "python",
   "nbconvert_exporter": "python",
   "pygments_lexer": "ipython3",
   "version": "3.9.12"
  }
 },
 "nbformat": 4,
 "nbformat_minor": 5
}
